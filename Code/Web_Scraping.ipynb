{
  "nbformat": 4,
  "nbformat_minor": 0,
  "metadata": {
    "colab": {
      "name": "Web_Scraping.ipynb",
      "provenance": [],
      "collapsed_sections": []
    },
    "kernelspec": {
      "name": "python3",
      "display_name": "Python 3"
    },
    "language_info": {
      "name": "python"
    }
  },
  "cells": [
    {
      "cell_type": "code",
      "source": [
        "from google.colab import drive\n",
        "drive.mount('/content/drive')"
      ],
      "metadata": {
        "colab": {
          "base_uri": "https://localhost:8080/"
        },
        "id": "irCXnCp10SDi",
        "outputId": "d8c15942-47c7-48cd-85d4-6ffd01b0ed33"
      },
      "execution_count": null,
      "outputs": [
        {
          "output_type": "stream",
          "name": "stdout",
          "text": [
            "Mounted at /content/drive\n"
          ]
        }
      ]
    },
    {
      "cell_type": "code",
      "source": [
        "!ls"
      ],
      "metadata": {
        "colab": {
          "base_uri": "https://localhost:8080/"
        },
        "id": "p15tSjun09BQ",
        "outputId": "79c9d83c-f55d-4d06-b0a2-0ed60af07af8"
      },
      "execution_count": null,
      "outputs": [
        {
          "output_type": "stream",
          "name": "stdout",
          "text": [
            "drive  sample_data\n"
          ]
        }
      ]
    },
    {
      "cell_type": "code",
      "source": [
        "import os"
      ],
      "metadata": {
        "id": "Zbil_hRc9K7r"
      },
      "execution_count": null,
      "outputs": []
    },
    {
      "cell_type": "code",
      "source": [
        "os.getcwd()"
      ],
      "metadata": {
        "colab": {
          "base_uri": "https://localhost:8080/",
          "height": 35
        },
        "id": "5f021WBd9OUT",
        "outputId": "d602b759-fab5-4798-d146-90f0a695f1f6"
      },
      "execution_count": null,
      "outputs": [
        {
          "output_type": "execute_result",
          "data": {
            "text/plain": [
              "'/content'"
            ],
            "application/vnd.google.colaboratory.intrinsic+json": {
              "type": "string"
            }
          },
          "metadata": {},
          "execution_count": 5
        }
      ]
    },
    {
      "cell_type": "code",
      "execution_count": null,
      "metadata": {
        "id": "HczGWHGE0Pq5"
      },
      "outputs": [],
      "source": [
        "import urllib.request"
      ]
    },
    {
      "cell_type": "code",
      "source": [
        "count = 1\n",
        "while count < 100:\n",
        "    print(count)\n",
        "    # Change the path, URL, and fileform\n",
        "    outpath = \"drive/My Drive/your folder/\"\n",
        "    url = \"https://charlesdickenspage.com/illustrations-web/The-Haunted-Man/The-Haunted-Man\"\n",
        "    count1 = str(count) \n",
        "    fileform = count1.zfill(2) + \".jpg\"\n",
        "    urllib.request.urlretrieve(url+fileform, outpath+fileform)\n",
        "    count = count + 1\n",
        "else:\n",
        "    print(\"complete!\")"
      ],
      "metadata": {
        "id": "7kGWzUib0woI"
      },
      "execution_count": null,
      "outputs": []
    }
  ]
}